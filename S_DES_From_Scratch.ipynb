{
  "nbformat": 4,
  "nbformat_minor": 0,
  "metadata": {
    "colab": {
      "provenance": []
    },
    "kernelspec": {
      "name": "python3",
      "display_name": "Python 3"
    },
    "language_info": {
      "name": "python"
    }
  },
  "cells": [
    {
      "cell_type": "code",
      "execution_count": null,
      "metadata": {
        "colab": {
          "base_uri": "https://localhost:8080/"
        },
        "id": "j8ZhSj3hTPez",
        "outputId": "ec21ecd7-b850-4ef5-9dca-60224b609d68"
      },
      "outputs": [
        {
          "output_type": "stream",
          "name": "stdout",
          "text": [
            "First key: 10100100\n",
            "Second key: 01000011\n",
            "Please enter hex element: 97\n",
            "After IP:  01011101\n",
            "First round result:  10101101\n",
            "Second round result:  00101010\n",
            "________________Encrypted Result___________ 00101010\n"
          ]
        }
      ],
      "source": [
        "IP=[2,6,3,1,4,8,5,7]\n",
        "ep=[4,1,2,3,2,3,4,1]\n",
        "S0=[[1,0,3,2],[3,2,1,0],[0,2,1,3],[3,1,3,2]]\n",
        "S1=[[0,1,2,3],[2,0,1,3],[3,0,1,0],[2,1,0,3]]\n",
        "P4=[2,4,3,1]\n",
        "P10=[3,5,2,7,4,10,1,9,8,6]\n",
        "P8=[6,3,7,4,8,5,10,9]\n",
        "\n",
        "arr=['0000','0001','0010','0011','0100','0101','0110','0111','1000','1001','1010','1011','1100','1101','1110','1111']\n",
        "arrN=['0','1','2','3','4','5','6','7','8','9','A','B','C','D','E','F']\n",
        "arrN1=['0','1','2','3','4','5','6','7','8','9','a','b','c','d','e','f']\n",
        "\n",
        "\n",
        "def keyIP(key,P10):\n",
        "  perM10=''\n",
        "  count=0\n",
        "  impP10=[]\n",
        "  for i in P10:\n",
        "    impP10.append(i-1)\n",
        "  for k in impP10:\n",
        "    perM10=perM10+key[k]\n",
        "  return perM10\n",
        "\n",
        "def leftShift(strShift,r_rot,l_rot):\n",
        "  res = (strShift * 3)[len(strShift) + r_rot - l_rot :2 * len(strShift) + r_rot - l_rot]\n",
        "  return res\n",
        "\n",
        "def XORop(v1,v2):\n",
        "  new = [(ord(a) ^ ord(b)) for a,b in zip(v1, v2)]\n",
        "  strXOR=''\n",
        "  for n in new:\n",
        "    strXOR=strXOR+str(n)\n",
        "  return strXOR\n",
        "def binToDec(strNo):\n",
        "  return int(strNo,2)\n",
        "\n",
        "def DecimalToBinary(num):\n",
        "  return bin(num).replace(\"0b\", \"\")\n",
        "\n",
        "def colRowBinToDecAndSBox(S0V,S):\n",
        "  r=S0V[0]+S0V[3]\n",
        "  c=S0V[1:3]\n",
        "  rV=binToDec(r)\n",
        "  cV=binToDec(c)\n",
        "  val=S[rV][cV]\n",
        "  binVal=DecimalToBinary(val)\n",
        "  return binVal\n",
        "\n",
        "def rounds(ipT,key):\n",
        "  lipT=ipT[:4]\n",
        "  ripT=ipT[4:]\n",
        "  \n",
        "  exPer=keyIP(ripT,ep)\n",
        "  \n",
        "  xorVal=XORop(exPer,key)\n",
        "  \n",
        "  S0V=xorVal[:4]\n",
        "  S1V=xorVal[4:]\n",
        "  \n",
        "  s0Val=colRowBinToDecAndSBox(S0V,S0)\n",
        "  s1Val=colRowBinToDecAndSBox(S1V,S1)\n",
        "  S0S1=s0Val+s1Val\n",
        "  \n",
        "  p4Val=keyIP(S0S1,P4)\n",
        "  \n",
        "  roundVal=XORop(lipT,p4Val)\n",
        "  roundVal=roundVal+ripT\n",
        "  return roundVal\n",
        "\n",
        "key='1010000010'\n",
        "per10=keyIP(key,P10)\n",
        "lk=per10[:5]\n",
        "rk=per10[5:]\n",
        "ls1_l=leftShift(lk,1,0)\n",
        "ls1_r=leftShift(rk,1,0)\n",
        "res1=ls1_l+ls1_r\n",
        "fkey=keyIP(res1,P8)\n",
        "print('First key:',fkey)\n",
        "ls2_l=leftShift(ls1_l,2,0)\n",
        "ls2_r=leftShift(ls1_r,2,0)\n",
        "res2=ls2_l+ls2_r\n",
        "skey=keyIP(res2,P8)\n",
        "print('Second key:',skey)\n",
        "\n",
        "inputVal=input('Please enter hex element: ')\n",
        "conP=''\n",
        "for char in inputVal:\n",
        "  for i in range(len(arr)):\n",
        "    if char==arrN[i] or char==arrN1[i]:\n",
        "      conP=conP+arr[i]\n",
        "pT='97'\n",
        "dec=\"{0:08b}\".format(int(pT, 16))\n",
        "plainText=dec#'10010111'\n",
        "plainText=conP\n",
        "ipT=keyIP(plainText,IP)\n",
        "print('After IP: ',ipT)\n",
        "firstRound=rounds(ipT,fkey)\n",
        "print('First round result: ',firstRound)\n",
        "firOutput=firstRound[4:]+firstRound[:4]\n",
        "SRound=rounds(firOutput,skey)\n",
        "print('Second round result: ',SRound)\n",
        "print('________________Encrypted Result___________',SRound)"
      ]
    },
    {
      "cell_type": "code",
      "source": [],
      "metadata": {
        "id": "_fy4v1b4TTAQ"
      },
      "execution_count": null,
      "outputs": []
    }
  ]
}