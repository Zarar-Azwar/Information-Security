{
  "nbformat": 4,
  "nbformat_minor": 0,
  "metadata": {
    "colab": {
      "provenance": []
    },
    "kernelspec": {
      "name": "python3",
      "display_name": "Python 3"
    },
    "language_info": {
      "name": "python"
    }
  },
  "cells": [
    {
      "cell_type": "code",
      "execution_count": null,
      "metadata": {
        "id": "Ho23xKpNVQHB"
      },
      "outputs": [],
      "source": [
        "import random\n",
        "import string"
      ]
    },
    {
      "cell_type": "code",
      "source": [
        "def millerRabin(number):\n",
        "  if number%2==0:\n",
        "    return False\n",
        "  else:\n",
        "    ##### Step1 n-1=2^k * m\n",
        "    i=1\n",
        "    while(((number-1)%(2**i))==0 and i<(number-1)):\n",
        "      i=i+1\n",
        "    m=(number-1)/(2**(i-1))\n",
        "    j=0\n",
        "    a=random.randrange(1,number-1)\n",
        "    while(True):\n",
        "      if j==0:\n",
        "        b0=(a**int(m))%number\n",
        "        b=b0\n",
        "      else:\n",
        "        b=(b**2)%number\n",
        "      j=j+1\n",
        "      if b==number-1 or b==1:\n",
        "        if b==number-1:\n",
        "          return True\n",
        "        else:\n",
        "          return False\n",
        "      \n",
        "def findgcd(x, y):\n",
        "   while(y):\n",
        "      x, y = y, x % y\n",
        "   return x\n",
        "\n",
        "def extended_gcd(a, b):\n",
        "    if a == 0:\n",
        "        return b, 0, 1\n",
        "    else:\n",
        "        gcd, x, y = extended_gcd(b % a, a)\n",
        "        return gcd, y - (b // a) * x, x\n",
        "    "
      ],
      "metadata": {
        "id": "1LO5_3r9lRMC"
      },
      "execution_count": null,
      "outputs": []
    },
    {
      "cell_type": "code",
      "source": [
        "bits=4\n",
        "p=random.randrange(2**(bits-1)+1,2**(bits)-1)\n",
        "q=random.randrange(2**(bits-1)+1,2**(bits)-1)\n",
        "if (millerRabin(q)==False):\n",
        "  while(millerRabin(q==False)):\n",
        "    q=random.randrange(2**(bits-1)+1,2**(bits)-1)\n",
        "if (millerRabin(p)==False):\n",
        "  while(millerRabin(p==False)):\n",
        "    p=random.randrange(2**(bits-1)+1,2**(bits)-1)\n",
        "print(p,q)\n"
      ],
      "metadata": {
        "id": "hUS_Tp_bR_nf",
        "colab": {
          "base_uri": "https://localhost:8080/"
        },
        "outputId": "119ce6c1-5802-46b8-eb39-a66a24f3438f"
      },
      "execution_count": null,
      "outputs": [
        {
          "output_type": "stream",
          "name": "stdout",
          "text": [
            "10 11\n"
          ]
        }
      ]
    },
    {
      "cell_type": "code",
      "source": [
        "number=p*q\n",
        "phaiN=(p-1)*(q-1)\n",
        "for i in range(2,phaiN):\n",
        "  if findgcd(phaiN,i)==1:\n",
        "    e=i\n",
        "    break\n",
        "\n",
        "for j in range(1,phaiN):\n",
        "  if (j*e)%phaiN==1:\n",
        "    d=j\n",
        "print(phaiN,e,d,number)"
      ],
      "metadata": {
        "id": "DC9OF61LlVCs",
        "colab": {
          "base_uri": "https://localhost:8080/"
        },
        "outputId": "dade1158-93ed-4f17-bc2c-705583ff5051"
      },
      "execution_count": null,
      "outputs": [
        {
          "output_type": "stream",
          "name": "stdout",
          "text": [
            "90 7 13 110\n"
          ]
        }
      ]
    },
    {
      "cell_type": "code",
      "source": [
        "def alphToNum(text):\n",
        "  text=text.upper()\n",
        "  lis=list(text)\n",
        "  number=[]\n",
        "  for i in range(len(lis)):\n",
        "    number.append(ord(lis[i]))\n",
        "  return number\n",
        "\n",
        "def NumToAlph(number):\n",
        "  number=str(number)\n",
        "  splitStr=[]\n",
        "  for i in range(0,len(number),2):\n",
        "    splitStr.append(int(number[i:i+2]))\n",
        "  orig=[]\n",
        "  for num in splitStr:\n",
        "    orig.append(chr(num))\n",
        "  return ''.join(orig)"
      ],
      "metadata": {
        "id": "Md_wnmdOKcZn"
      },
      "execution_count": null,
      "outputs": []
    },
    {
      "cell_type": "code",
      "source": [
        "def encryption(text,e,number):\n",
        "  M=alphToNum(text)\n",
        "  ciphers=[]\n",
        "  for m in M:\n",
        "    ciphers.append((m**e)%number)\n",
        "  return ciphers\n",
        "\n",
        "def decryption(cipher,d,number):\n",
        "  Mess=[]\n",
        "  for c in cipher:\n",
        "    Mess.append(str((c**d)%number))\n",
        "  text=NumToAlph(''.join(Mess))\n",
        "  return text.lower()"
      ],
      "metadata": {
        "id": "XroOPGXlK839"
      },
      "execution_count": null,
      "outputs": []
    },
    {
      "cell_type": "code",
      "source": [
        "message=input('Alice To Bob: ')\n",
        "C=encryption(message,e,number)\n",
        "print('Bob Recieved', decryption(C,d,number))"
      ],
      "metadata": {
        "colab": {
          "base_uri": "https://localhost:8080/"
        },
        "id": "e1Rs7O87SKhe",
        "outputId": "113fec18-1335-4341-cee0-68f2675ab922"
      },
      "execution_count": null,
      "outputs": [
        {
          "output_type": "stream",
          "name": "stdout",
          "text": [
            "Alice To Bob: hello\n",
            "Bob Recieved \u001cello\n"
          ]
        }
      ]
    },
    {
      "cell_type": "code",
      "source": [
        "def alphabetToNumber(text):\n",
        "  alp=string.ascii_lowercase\n",
        "  alphabets=list(alp)\n",
        "  text=list(text.lower())\n",
        "  numCon=[]\n",
        "  for t in text:\n",
        "    for i in range(len(alphabets)):\n",
        "      if t==alphabets[i]:\n",
        "        numCon.append(str(i))\n",
        "        break\n",
        "  return int(''.join(numCon))\n"
      ],
      "metadata": {
        "id": "-DTVKBMNJQ2J"
      },
      "execution_count": null,
      "outputs": []
    },
    {
      "cell_type": "code",
      "source": [],
      "metadata": {
        "id": "nvoVODeaQPBY"
      },
      "execution_count": null,
      "outputs": []
    }
  ]
}