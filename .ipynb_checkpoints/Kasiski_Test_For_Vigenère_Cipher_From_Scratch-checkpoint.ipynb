{
 "cells": [
  {
   "cell_type": "code",
   "execution_count": 18,
   "metadata": {
    "colab": {
     "base_uri": "https://localhost:8080/"
    },
    "id": "CWXKyetTnZp4",
    "outputId": "45a50f3b-cecf-4087-b1ac-b3f57d0e4dc3"
   },
   "outputs": [
    {
     "name": "stdout",
     "output_type": "stream",
     "text": [
      "Collecting wordsegment\n",
      "  Downloading wordsegment-1.3.1-py2.py3-none-any.whl (4.8 MB)\n",
      "\u001b[K     |████████████████████████████████| 4.8 MB 22.0 MB/s \n",
      "\u001b[?25hInstalling collected packages: wordsegment\n",
      "Successfully installed wordsegment-1.3.1\n"
     ]
    }
   ],
   "source": [
    "import string\n",
    "!pip install wordsegment\n",
    "from wordsegment import segment,load"
   ]
  },
  {
   "cell_type": "code",
   "execution_count": 2,
   "metadata": {
    "id": "4AnAXux5ntmS"
   },
   "outputs": [],
   "source": [
    "alp=string.ascii_lowercase"
   ]
  },
  {
   "cell_type": "code",
   "execution_count": 3,
   "metadata": {
    "id": "e8qXs73FJAMZ"
   },
   "outputs": [],
   "source": [
    "def alphabetToNumber(text):\n",
    "    alp=string.ascii_lowercase\n",
    "    alphabets=list(alp)\n",
    "    text=list(text.lower())\n",
    "    numCon=[]\n",
    "    for t in text:\n",
    "    for i in range(len(alphabets)):\n",
    "        if t==alphabets[i]:\n",
    "        numCon.append(i)\n",
    "        break\n",
    "    return numCon"
   ]
  },
  {
   "cell_type": "code",
   "execution_count": 8,
   "metadata": {
    "id": "JC1JEL7tJgb8"
   },
   "outputs": [],
   "source": [
    "def keyFinder(orig,cipher):\n",
    "    keys=[]\n",
    "    for k in range(26):\n",
    "        keys.append(k)\n",
    "    for k in keys:\n",
    "        p=(cipher[0]-k)%26\n",
    "        if p==orig[0]:\n",
    "            finalKey=k\n",
    "        for i in range(len(cipher)):\n",
    "            p=(cipher[i]-k)%26\n",
    "            if p!=orig[i]:\n",
    "          finalKey=1000\n",
    "          break\n",
    "      if finalKey==k:\n",
    "        return finalKey"
   ]
  },
  {
   "cell_type": "code",
   "execution_count": 9,
   "metadata": {
    "colab": {
     "base_uri": "https://localhost:8080/"
    },
    "id": "eSTyNmKFKEFt",
    "outputId": "9c0a83e9-54ce-42de-b27c-de87f9bc6035"
   },
   "outputs": [
    {
     "name": "stdout",
     "output_type": "stream",
     "text": [
      "Enter Cipher Text: btti bt puitg iwt idvp epgin\n",
      "The Orignal Text is:  PHHW PH DIWHU WKH WRJD SDUWB\n",
      "The Cipher Text is:  btti bt puitg iwt idvp epgin\n",
      "The Key is:  12\n"
     ]
    }
   ],
   "source": [
    "origT='PHHW PH DIWHU WKH WRJD SDUWB'\n",
    "orig=alphabetToNumber(origT)\n",
    "cipherT=input(\"Enter Cipher Text: \")\n",
    "cipher=alphabetToNumber(cipherT)\n",
    "k=keyFinder(orig,cipher)\n",
    "print(\"The Orignal Text is: \",origT)\n",
    "print(\"The Cipher Text is: \",cipherT)\n",
    "print(\"The Key is: \",k)"
   ]
  },
  {
   "cell_type": "code",
   "execution_count": null,
   "metadata": {
    "id": "A2uhEs3gz9I5"
   },
   "outputs": [],
   "source": []
  },
  {
   "cell_type": "code",
   "execution_count": 10,
   "metadata": {
    "id": "0jU2zx_2cqSD"
   },
   "outputs": [],
   "source": [
    "def combinationDistanceGCD(string,comb):\n",
    "  Substring=[string[i:i+comb] for i in range(len(string)+1-comb)]\n",
    "  freqTable={}\n",
    "  for tSS in Substring:\n",
    "    tempPos=[]\n",
    "    count=0\n",
    "    for i in range(len(string)+1-comb):\n",
    "      if tSS==string[i:i+comb]:\n",
    "        tempPos.append(i)\n",
    "        count=count+1\n",
    "    freqTable[tSS]=tempPos\n",
    "  popingDic=[]\n",
    "  for k,v in freqTable.items():\n",
    "    if len(v)<2:\n",
    "      popingDic.append(k)\n",
    "  for p in popingDic:\n",
    "    freqTable.pop(p)\n",
    "  print(len(freqTable.items()))\n",
    "\n",
    "  distFreqTable={}\n",
    "  for k,v in freqTable.items():\n",
    "    temp=list(v)\n",
    "    dist=[]\n",
    "    for i in range(len(v)-1):\n",
    "      j=i+1  \n",
    "      while j<len(v):\n",
    "        if j!=i:\n",
    "          dist.append(v[j]-v[i])\n",
    "          j=j+1\n",
    "    distFreqTable[k]=dist\n",
    "  \n",
    "  distL=[]\n",
    "  count=0\n",
    "  for k,v in distFreqTable.items():\n",
    "    val=list(v)\n",
    "    count=count+1\n",
    "    for value in val:\n",
    "      distL.append(value)\n",
    "  l = distL\n",
    "  num1=l[0]\n",
    "  num2=l[1]\n",
    "  gcd=findgcd(num1,num2)\n",
    "  for i in range(2,len(l)):\n",
    "    gcd=findgcd(gcd,l[i])\n",
    "  return gcd"
   ]
  },
  {
   "cell_type": "code",
   "execution_count": 11,
   "metadata": {
    "id": "sD1RQEj1e_fU"
   },
   "outputs": [],
   "source": [
    "def findgcd(x, y):\n",
    "   while(y):\n",
    "      x, y = y, x % y\n",
    "   return x"
   ]
  },
  {
   "cell_type": "code",
   "execution_count": 12,
   "metadata": {
    "id": "nXXrTAThkl0b"
   },
   "outputs": [],
   "source": [
    "def freqReturn(l1):\n",
    "  test_str = l1\n",
    "  L1_freq = {}\n",
    "  for i in test_str:\n",
    "    if i in L1_freq:\n",
    "      L1_freq[i] += 1\n",
    "    else:\n",
    "      L1_freq[i] = 1\n",
    "  return L1_freq"
   ]
  },
  {
   "cell_type": "code",
   "execution_count": 13,
   "metadata": {
    "id": "qtQYCTPmlBE2"
   },
   "outputs": [],
   "source": [
    "def maxFreq(dic):\n",
    "  maxL1=max(dic,key=dic.get)\n",
    "  return maxL1"
   ]
  },
  {
   "cell_type": "code",
   "execution_count": 14,
   "metadata": {
    "id": "RB8HgxqQmRb9"
   },
   "outputs": [],
   "source": [
    "def get_key(val,lettersToNumber):\n",
    "    for key, value in lettersToNumber.items():\n",
    "         if val == value:\n",
    "             return key"
   ]
  },
  {
   "cell_type": "code",
   "execution_count": 15,
   "metadata": {
    "id": "2tezDWovmjfs"
   },
   "outputs": [],
   "source": [
    "def listAlphabet():\n",
    "  letters=list(map(chr, range(97, 123)))\n",
    "  lettersToNumber={}\n",
    "  count=0\n",
    "  for i in letters:\n",
    "    lettersToNumber[i]=count\n",
    "    count=count+1\n",
    "  return lettersToNumber"
   ]
  },
  {
   "cell_type": "code",
   "execution_count": 16,
   "metadata": {
    "id": "Nm74wh77ygYM"
   },
   "outputs": [],
   "source": [
    "def cipherToOrigText(string,g):\n",
    "  arr=[]\n",
    "  for i in range(g):\n",
    "    arr.append([])\n",
    "  for i in range(len(string)):\n",
    "    rem=i%g\n",
    "    arr[rem].append(string[i])\n",
    "\n",
    "  freqList=[]\n",
    "  for a in arr:\n",
    "    freqList.append(freqReturn(a))\n",
    "\n",
    "  maxList=[]\n",
    "  for fL in freqList:\n",
    "    maxList.append(maxFreq(fL))\n",
    "\n",
    "  print(maxList)\n",
    "  lettersToNumber=listAlphabet()\n",
    "  keys=[]\n",
    "  for mxE in maxList:\n",
    "    keys.append((lettersToNumber[mxE]-lettersToNumber['e'])%26)\n",
    "  print(keys)\n",
    "  keyLetters=[]\n",
    "  for k in keys:\n",
    "    keyLetters.append(get_key(k,lettersToNumber))\n",
    "  print(keyLetters)\n",
    "\n",
    "  decArr=arr\n",
    "  for i in range(len(arr)):\n",
    "    updated=cypherToOrig(arr[i],keys[i])\n",
    "    decArr[i]=updated\n",
    "  \n",
    "  text=[]\n",
    "  for i in range(len(decArr[0])):\n",
    "      for j in range(len(decArr)):\n",
    "        try:\n",
    "          text.append(decArr[j][i])\n",
    "        except:\n",
    "          print('')\n",
    "  \n",
    "  textF=''.join(text)\n",
    "  load()\n",
    "  resultSeg=segment(textF)\n",
    "  result=\" \".join(resultSeg)\n",
    "  return result"
   ]
  },
  {
   "cell_type": "code",
   "execution_count": 19,
   "metadata": {
    "id": "KuPbEl2coM7a"
   },
   "outputs": [],
   "source": [
    "def cypherToOrig(l1,L1K):\n",
    "  lettersToNumber=listAlphabet()\n",
    "  L1updated=[]\n",
    "  for z in l1:\n",
    "    val=(lettersToNumber[z]-L1K)%26\n",
    "    L1updated.append(get_key(val,lettersToNumber))\n",
    "  return L1updated"
   ]
  },
  {
   "cell_type": "code",
   "execution_count": 24,
   "metadata": {
    "id": "7fLEjCoh1vfj"
   },
   "outputs": [],
   "source": [
    "string='dvnpmkvlimkcjiagcyhmtfkpgutmjgviwbxprlseqmcgljvygfgwmgfatyjlgrlsugjgaxpkrwtvpmjfcpftttscabgmcbxhfpbbpvfdgqlppgfyykxtvqexekrdfkecwhpfsgmjrrnhwdynugcgtogtcclwicbxkewdntnghwqdycwcnyzxafsglgeqtlvyyirqlkprvycqxvkcgcwuetbhkftkgscpgazliakjyhlgdzarcewsxcidgbgebdyerchttjrdakdghtakfpmdisinucmkxvfapxurpltuemaxujrwtpyghbhkftgvyyiytzccwfvkpgfnfnutlrjltfqttirgclvtytlcirwbuzqbrceqlxtemimjrrxeqmcsvcvqpknvqhuwkrwtvzjdogupdfgdmgxjrbnhwiyiagiapxurplxtvjxokeepgfugttncqatxvqiacerwtvtytlciutkgucpwvfjxogrjaytvcbxprqrtgjygeqmcsfgzutxrwmgakdyhagnyhyqirjgckcxkgamxvgrrxmcjftpcjtpekrlibjfldntygbuwkyhagnyhtosgibqlqxlnvuwbokftkgzqixciquhtygheqmcyhawmgakjddkvlltaqemjkhfpwbumyahwiycwfvyiahfpwburkqbvzmcpjfghagichhdrqtmjrrlhwcbqxcsmcworlxycewhigriuhtygbacmcxhhwccwguuwhkjftkgjmgnfvrwtvnmjefemiugrpdfcegutppqexcbddkjzkwtxvgdyhvlsxfnfdbuycgxuftxegkfpmyzjagqkjdogyghvqllikazdpgajnttmwmgakdfpogzmuygebtwkgyjlgwmgttvnarvyccgqecwtxvgdyhvlsxfzfpogumcxpfkdkgkmrtgjygmjrlnhwjfpenumihdisinukftjwvqibqemuakjbttvyghxpimaegugcmjvapikkmaakjeahtpldmgortgwrrtwyycgxkeftpcjudkvywchtyghhhwccvgjccyqiatwhfplaktfwxulduxtvbsxckfwxtvadfgjfxldfbnfqlpcxfswbttbycmqewlaqkfdniyftaculdacebxgjzqsxckfhaccjgxevgkxvycqxpvdxmqwfxlfpgczcgjpvgzliagtmbfqeuttnkfplyygraqwwdnuyyaepfrlbvyrwbuzbticiriackyhbucclfaschmnfttkhfpiagxmdwqwpdfgzfpogkftlcdcstixcgyqiknlgcdlagegiljrjainvyhxopadnpkpnmqectwopbttvy'"
   ]
  },
  {
   "cell_type": "code",
   "execution_count": 26,
   "metadata": {
    "colab": {
     "base_uri": "https://localhost:8080/",
     "height": 261
    },
    "id": "kWeg40hU1Gg1",
    "outputId": "728c482f-d883-4d6a-ff98-464f71a75438"
   },
   "outputs": [
    {
     "name": "stdout",
     "output_type": "stream",
     "text": [
      "75\n",
      "['g', 'v', 'c', 't', 'x']\n",
      "[2, 17, 24, 15, 19]\n",
      "['c', 'r', 'y', 'p', 't']\n",
      "\n",
      "\n",
      "\n"
     ]
    },
    {
     "data": {
      "application/vnd.google.colaboratory.intrinsic+json": {
       "type": "string"
      },
      "text/plain": [
       "'be patient till the last romans countrymen and lovers hear me for my cause and be silent that you may hear believe me for mine honour and have respect to mine honour that you may believe censure me in your wisdom and awake your senses that you may the better judge if there be any in this assembly any dear friend of caesars to him i say that brutus love to caesar was no less than his if then that friend demand why brutus rose against caesar this is my answer not that i loved caesar less but that i loved rome more had you rather caesar were living and die all slaves than that caesar were dead to live all freemen as caesar loved me i weep for him as he was fortunate i rejoice at it as he was valiant i honour him but as he was ambitious isle whim there is tears for his lovejoy for his fortune honour for his valour and death for his ambition who is here so base that would be a bond man if any speak for him have i offended who is here so rude that would not be a roman if any speak for him have i offended who is here so vile that will not love his country if any speak for him have i offended i pause for a reply then none have i offended i have done no more to caesar than you shall do to brutus the question of his death is enrolled in the capitol his glory not extenuate d wherein he was worthy nor his offences enforced for which he suffered death here comes his body mourned by mark antony who though he had no hand in his death shall receive the benefit of his dying a place in the commonwealth as which of you shall not with this ide part that as is lew my best lover for the good of rome i have the same dagger for myself when it shall please my country to need my death'"
      ]
     },
     "execution_count": 26,
     "metadata": {},
     "output_type": "execute_result"
    }
   ],
   "source": [
    "g=combinationDistanceGCD(string,4)\n",
    "cipherToOrigText(string,g)"
   ]
  },
  {
   "cell_type": "code",
   "execution_count": 25,
   "metadata": {
    "id": "0uK8Z4Va1w12"
   },
   "outputs": [],
   "source": []
  }
 ],
 "metadata": {
  "colab": {
   "name": "InformationSecurityAssignment1.ipynb",
   "provenance": []
  },
  "kernelspec": {
   "display_name": "Python 3",
   "language": "python",
   "name": "python3"
  },
  "language_info": {
   "codemirror_mode": {
    "name": "ipython",
    "version": 3
   },
   "file_extension": ".py",
   "mimetype": "text/x-python",
   "name": "python",
   "nbconvert_exporter": "python",
   "pygments_lexer": "ipython3",
   "version": "3.8.8"
  }
 },
 "nbformat": 4,
 "nbformat_minor": 1
}
